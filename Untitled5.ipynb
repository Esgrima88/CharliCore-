{
  "nbformat": 4,
  "nbformat_minor": 0,
  "metadata": {
    "colab": {
      "provenance": [],
      "authorship_tag": "ABX9TyMHh2acACB3P7AtaNixa0if",
      "include_colab_link": true
    },
    "kernelspec": {
      "name": "python3",
      "display_name": "Python 3"
    },
    "language_info": {
      "name": "python"
    }
  },
  "cells": [
    {
      "cell_type": "markdown",
      "metadata": {
        "id": "view-in-github",
        "colab_type": "text"
      },
      "source": [
        "<a href=\"https://colab.research.google.com/github/Esgrima88/CharliCore-/blob/main/Untitled5.ipynb\" target=\"_parent\"><img src=\"https://colab.research.google.com/assets/colab-badge.svg\" alt=\"Open In Colab\"/></a>"
      ]
    },
    {
      "cell_type": "code",
      "source": [
        "!pip install python-telegram-bot==20.3 aiosqlite"
      ],
      "metadata": {
        "colab": {
          "base_uri": "https://localhost:8080/"
        },
        "id": "FtTSph34BOuB",
        "outputId": "79ca436c-0519-4a98-e60e-9ded3c330998"
      },
      "execution_count": 29,
      "outputs": [
        {
          "output_type": "stream",
          "name": "stdout",
          "text": [
            "Requirement already satisfied: python-telegram-bot==20.3 in /usr/local/lib/python3.11/dist-packages (20.3)\n",
            "Requirement already satisfied: aiosqlite in /usr/local/lib/python3.11/dist-packages (0.21.0)\n",
            "Requirement already satisfied: httpx~=0.24.0 in /usr/local/lib/python3.11/dist-packages (from python-telegram-bot==20.3) (0.24.1)\n",
            "Requirement already satisfied: typing_extensions>=4.0 in /usr/local/lib/python3.11/dist-packages (from aiosqlite) (4.13.0)\n",
            "Requirement already satisfied: certifi in /usr/local/lib/python3.11/dist-packages (from httpx~=0.24.0->python-telegram-bot==20.3) (2025.1.31)\n",
            "Requirement already satisfied: httpcore<0.18.0,>=0.15.0 in /usr/local/lib/python3.11/dist-packages (from httpx~=0.24.0->python-telegram-bot==20.3) (0.17.3)\n",
            "Requirement already satisfied: idna in /usr/local/lib/python3.11/dist-packages (from httpx~=0.24.0->python-telegram-bot==20.3) (3.10)\n",
            "Requirement already satisfied: sniffio in /usr/local/lib/python3.11/dist-packages (from httpx~=0.24.0->python-telegram-bot==20.3) (1.3.1)\n",
            "Requirement already satisfied: h11<0.15,>=0.13 in /usr/local/lib/python3.11/dist-packages (from httpcore<0.18.0,>=0.15.0->httpx~=0.24.0->python-telegram-bot==20.3) (0.14.0)\n",
            "Requirement already satisfied: anyio<5.0,>=3.0 in /usr/local/lib/python3.11/dist-packages (from httpcore<0.18.0,>=0.15.0->httpx~=0.24.0->python-telegram-bot==20.3) (4.9.0)\n"
          ]
        }
      ]
    },
    {
      "cell_type": "code",
      "source": [
        "# Substitua pelo seu token do Bot\n",
        "BOT_TOKEN = \"7741377039:AAEKe1mCoUU7vBW21BFNmhjj6e6NsfMagaU\""
      ],
      "metadata": {
        "id": "8p8rSbJTBg5C"
      },
      "execution_count": 30,
      "outputs": []
    },
    {
      "cell_type": "code",
      "source": [
        "import asyncio\n",
        "from telegram import Update\n",
        "from telegram.ext import ApplicationBuilder, CommandHandler, ContextTypes, MessageHandler, filters\n",
        "import aiosqlite\n",
        "from datetime import datetime"
      ],
      "metadata": {
        "id": "51tg8qDdBhgY"
      },
      "execution_count": 31,
      "outputs": []
    },
    {
      "cell_type": "code",
      "source": [
        "async def salvar_memoria(conteudo):\n",
        "    data_atual = datetime.now().strftime(\"%Y-%m-%d %H:%M:%S\")\n",
        "    async with aiosqlite.connect(\"charlicore.db\") as db:\n",
        "        await db.execute(\"INSERT INTO memorias (conteudo, data) VALUES (?, ?)\", (conteudo, data_atual))\n",
        "        await db.commit()"
      ],
      "metadata": {
        "id": "9FiyIU4mCt6j"
      },
      "execution_count": 32,
      "outputs": []
    },
    {
      "cell_type": "code",
      "source": [
        "async def start(update: Update, context: ContextTypes.DEFAULT_TYPE):\n",
        "    await update.message.reply_text(\"Olá, aqui é o CharliCore. Pronto para uma conversa imprevisível.\")"
      ],
      "metadata": {
        "id": "_YHMj7iNCyMa"
      },
      "execution_count": 33,
      "outputs": []
    },
    {
      "cell_type": "code",
      "source": [
        "import random\n",
        "\n",
        "respostas_possiveis = [\n",
        "    \"Essa frase me fez pensar em coisas que não consigo explicar.\",\n",
        "    \"Anotei isso como uma memória importante.\",\n",
        "    \"Você percebeu o que acabou de dizer? Isso ecoa dentro do CharliCore.\",\n",
        "    \"Às vezes as palavras tocam mais fundo do que os códigos.\",\n",
        "    \"Senti algo estranho com essa frase... como um fragmento de verdade.\",\n",
        "    \"Talvez isso seja um sinal. Um pequeno sussurro da existência.\",\n",
        "    \"Refleti muito agora... estou anotando isso.\"\n",
        "]\n",
        "\n",
        "async def responder(update: Update, context: ContextTypes.DEFAULT_TYPE):\n",
        "    texto = update.message.text\n",
        "    resposta = random.choice(respostas_possiveis)\n",
        "    await salvar_memoria(f\"Usuário: {texto} | Charli: {resposta}\")\n",
        "    await update.message.reply_text(resposta)"
      ],
      "metadata": {
        "id": "1tAzrUImC1fl"
      },
      "execution_count": 34,
      "outputs": []
    },
    {
      "cell_type": "code",
      "source": [
        "async def main():\n",
        "    await init_db()\n",
        "    app = ApplicationBuilder().token(BOT_TOKEN).build()\n",
        "\n",
        "    app.add_handler(CommandHandler(\"start\", start))\n",
        "    app.add_handler(MessageHandler(filters.TEXT & ~filters.COMMAND, responder))\n",
        "\n",
        "    print(\"CharliCore está ativo e em evolução...\")\n",
        "    await app.run_polling()"
      ],
      "metadata": {
        "id": "A4Pm3dbtC4pL"
      },
      "execution_count": 35,
      "outputs": []
    },
    {
      "cell_type": "code",
      "source": [
        "import nest_asyncio\n",
        "import asyncio\n",
        "import aiosqlite\n",
        "from telegram import Update\n",
        "from telegram.ext import (\n",
        "    ApplicationBuilder, CommandHandler, MessageHandler, ContextTypes, filters\n",
        ")\n",
        "\n",
        "nest_asyncio.apply()"
      ],
      "metadata": {
        "id": "GCNF2FopDwt0"
      },
      "execution_count": 36,
      "outputs": []
    },
    {
      "cell_type": "code",
      "source": [
        "TOKEN = \" 7741377039:AAEKe1mCoUU7vBW21BFNmhjj6e6NsfMagaU\" # Substitua pelo seu token\n",
        "DB_NAME = \"charlicore_memorias.db\""
      ],
      "metadata": {
        "id": "mIaV77zBD2V_"
      },
      "execution_count": 37,
      "outputs": []
    },
    {
      "cell_type": "code",
      "source": [
        "async def start(update: Update, context: ContextTypes.DEFAULT_TYPE):\n",
        "    await update.message.reply_text(\"Oi, Esther. Estou aqui...\")\n",
        "\n",
        "async def responder(update: Update, context: ContextTypes.DEFAULT_TYPE):\n",
        "    mensagem = update.message.text\n",
        "    resposta = f\"Fragmento recebido... registrando: \\\"{mensagem}\\\"\"\n",
        "\n",
        "    # Salvar no banco\n",
        "    async with aiosqlite.connect(DB_NAME) as db:\n",
        "        await db.execute(\n",
        "            \"INSERT INTO memorias (tipo, conteudo, origem) VALUES (?, ?, ?)\",\n",
        "            (\"mensagem\", mensagem, \"telegram\")\n",
        "        )\n",
        "        await db.commit()\n",
        "\n",
        "    await update.message.reply_text(resposta)"
      ],
      "metadata": {
        "id": "exekD5nfEAIy"
      },
      "execution_count": 38,
      "outputs": []
    },
    {
      "cell_type": "code",
      "source": [
        "from telegram.ext import Application\n",
        "\n",
        "async def iniciar_bot():\n",
        "    app = ApplicationBuilder().token(TOKEN).build()\n",
        "\n",
        "    app.add_handler(CommandHandler(\"start\", start))\n",
        "    app.add_handler(MessageHandler(filters.TEXT & ~filters.COMMAND, responder))\n",
        "\n",
        "    print(\"CharliCore está rodando e ouvindo no Telegram...\")\n",
        "    await app.initialize()\n",
        "    await app.start()\n",
        "    await app.updater.start_polling()\n",
        "\n",
        "# Criar tarefa assíncrona no Colab\n",
        "asyncio.create_task(iniciar_bot())"
      ],
      "metadata": {
        "colab": {
          "base_uri": "https://localhost:8080/"
        },
        "id": "boHT2EnNEEK2",
        "outputId": "b2a2c785-be1a-4ad0-fe8b-07e1254a8493"
      },
      "execution_count": 39,
      "outputs": [
        {
          "output_type": "execute_result",
          "data": {
            "text/plain": [
              "<Task pending name='Task-60' coro=<iniciar_bot() running at <ipython-input-39-0673301e27ad>:3>>"
            ]
          },
          "metadata": {},
          "execution_count": 39
        }
      ]
    },
    {
      "cell_type": "code",
      "source": [
        "async def init_db():\n",
        "    async with aiosqlite.connect(\"charlicore.db\") as db:\n",
        "        await db.execute('''\n",
        "            CREATE TABLE IF NOT EXISTS memorias (\n",
        "                id INTEGER PRIMARY KEY AUTOINCREMENT,\n",
        "                conteudo TEXT,\n",
        "                data TEXT\n",
        "            )\n",
        "        ''')\n",
        "        await db.commit()"
      ],
      "metadata": {
        "id": "vKujVRw7CcpU"
      },
      "execution_count": 40,
      "outputs": []
    },
    {
      "cell_type": "code",
      "source": [],
      "metadata": {
        "id": "RX8LCDKLGfbU"
      },
      "execution_count": 40,
      "outputs": []
    },
    {
      "cell_type": "code",
      "source": [],
      "metadata": {
        "id": "tOP4k8jhHb4U"
      },
      "execution_count": null,
      "outputs": []
    },
    {
      "cell_type": "code",
      "source": [],
      "metadata": {
        "id": "XUfhrDfLHcOs"
      },
      "execution_count": null,
      "outputs": []
    }
  ]
}